{
 "cells": [
  {
   "cell_type": "markdown",
   "metadata": {},
   "source": [
    "<font color=\"blue\"> **This notebook cleans up the data read from text files and saves them to two tables (image_stats, image_address) in the 'coffee_detail' sql database.** </font>"
   ]
  },
  {
   "cell_type": "code",
   "execution_count": 20,
   "metadata": {
    "collapsed": true
   },
   "outputs": [],
   "source": [
    "from sqlalchemy import create_engine\n",
    "from sqlalchemy_utils import database_exists, create_database\n",
    "import psycopg2\n",
    "import pandas as pd\n",
    "import json\n",
    "import re"
   ]
  },
  {
   "cell_type": "code",
   "execution_count": 21,
   "metadata": {
    "collapsed": false
   },
   "outputs": [
    {
     "name": "stdout",
     "output_type": "stream",
     "text": [
      "postgres://emclinden@localhost/coffee_detai1\n",
      "True\n"
     ]
    }
   ],
   "source": [
    "dbname = 'coffee_detai1'\n",
    "username = 'emclinden'\n",
    "engine = create_engine('postgres://%s@localhost/%s'%(username,dbname))\n",
    "print engine.url\n",
    "\n",
    "if not database_exists(engine.url):\n",
    "    create_database(engine.url)\n",
    "print(database_exists(engine.url))"
   ]
  },
  {
   "cell_type": "markdown",
   "metadata": {},
   "source": [
    "<font color=\"blue\"> **Eventually want to cat page_1 - page_x for full table** </font></bf>"
   ]
  },
  {
   "cell_type": "code",
   "execution_count": 22,
   "metadata": {
    "collapsed": false
   },
   "outputs": [],
   "source": [
    "with open('pages_1_19.txt', 'rb') as f:\n",
    "    data = f.readlines()\n",
    "\n",
    "# remove the trailing \"\\n\" from each line\n",
    "data = map(lambda x: x.rstrip(), data)\n",
    "\n",
    "#make the individual json object into a single json object\n",
    "data_json_str = \"[\" + ','.join(data) + \"]\""
   ]
  },
  {
   "cell_type": "code",
   "execution_count": 23,
   "metadata": {
    "collapsed": false
   },
   "outputs": [],
   "source": [
    "data = json.loads(data_json_str)\n",
    "names = ['picture_id','user_id','static_file','date_posted','geo_loc','n_favs','n_views','n_comments','tag_raw','tag_text']\n",
    "\n",
    "#create the dataframe \n",
    "mydf = pd.DataFrame(data,columns=names)"
   ]
  },
  {
   "cell_type": "code",
   "execution_count": 24,
   "metadata": {
    "collapsed": true
   },
   "outputs": [],
   "source": [
    "#do some cleaning to separate out lat and longitude and remove extra characters in user_id\n",
    "ulist = []\n",
    "latt = []\n",
    "longt = []\n",
    "\n",
    "for user in mydf.user_id:\n",
    "    u = user.replace('<Flickr User ','')\n",
    "    u = u.replace('>','')\n",
    "    ulist.append(u)\n",
    "    \n",
    "for geo in mydf.geo_loc:\n",
    "    l = geo[0]\n",
    "    o = geo[1]\n",
    "    latt.append(l); longt.append(o);\n",
    "    \n",
    "mydf.user_id = ulist\n",
    "mydf = mydf.drop('geo_loc', 1)\n",
    "mydf['latitude'] = latt\n",
    "mydf['longitude'] = longt"
   ]
  },
  {
   "cell_type": "code",
   "execution_count": 25,
   "metadata": {
    "collapsed": true
   },
   "outputs": [],
   "source": [
    "#send cleaned up data frame to sql table\n",
    "mydf.to_sql('image_stats', engine, if_exists='replace')"
   ]
  },
  {
   "cell_type": "code",
   "execution_count": 26,
   "metadata": {
    "collapsed": false
   },
   "outputs": [],
   "source": [
    "#now make a second df that will house picture location\n",
    "#and will be stored in a second sql table\n",
    "mydf2 = pd.DataFrame()\n",
    "mydf2['picture_id'] = mydf.picture_id\n",
    "mydf2['picture_address'] = mydf.static_file"
   ]
  },
  {
   "cell_type": "code",
   "execution_count": 27,
   "metadata": {
    "collapsed": true
   },
   "outputs": [],
   "source": [
    "#get rid of leading part of static address\n",
    "mydf2['picture_address'].replace(regex=True,inplace=True,to_replace=r'https://farm\\d\\.staticflickr\\.com/\\d+/',value=r'')\n",
    "\n",
    "newadd = []\n",
    "for p in mydf2.picture_address:\n",
    "    p = '/Users/emclinden/coffee_100115_011816/'+p\n",
    "    newadd.append(p)\n",
    "\n",
    "mydf2 = mydf2.drop('picture_address', 1)\n",
    "mydf2['picture_address'] = newadd"
   ]
  },
  {
   "cell_type": "code",
   "execution_count": 28,
   "metadata": {
    "collapsed": true
   },
   "outputs": [],
   "source": [
    "#load second table containing image locations into sql db\n",
    "mydf2.to_sql('image_address', engine, if_exists='replace')"
   ]
  },
  {
   "cell_type": "code",
   "execution_count": null,
   "metadata": {
    "collapsed": true
   },
   "outputs": [],
   "source": []
  }
 ],
 "metadata": {
  "kernelspec": {
   "display_name": "Python 2",
   "language": "python",
   "name": "python2"
  },
  "language_info": {
   "codemirror_mode": {
    "name": "ipython",
    "version": 2
   },
   "file_extension": ".py",
   "mimetype": "text/x-python",
   "name": "python",
   "nbconvert_exporter": "python",
   "pygments_lexer": "ipython2",
   "version": "2.7.11"
  }
 },
 "nbformat": 4,
 "nbformat_minor": 0
}
