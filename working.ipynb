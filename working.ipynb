{
 "cells": [
  {
   "cell_type": "code",
   "execution_count": 423,
   "metadata": {
    "collapsed": true
   },
   "outputs": [],
   "source": [
    "from sqlalchemy import create_engine\n",
    "from sqlalchemy_utils import database_exists, create_database\n",
    "from matplotlib.pyplot import imshow\n",
    "import numpy as np\n",
    "import fnmatch\n",
    "import os\n",
    "import matplotlib.pyplot as plt\n",
    "import matplotlib.image as mpimg\n",
    "import pylab\n",
    "import pandas as pd\n",
    "from sklearn.linear_model import LinearRegression\n",
    "from sklearn.linear_model import Lasso\n",
    "from sklearn.ensemble import GradientBoostingRegressor\n",
    "from sklearn.cross_validation import train_test_split\n",
    "import pylab\n",
    "import pickle\n",
    "from tqdm import tqdm\n",
    "import datetime\n",
    "import matplotlib.mlab as mlab\n",
    "from scipy.stats import norm\n",
    "\n",
    "\n",
    "\n",
    "pylab.rcParams['figure.figsize'] = (10.0, 8.0)\n",
    "%matplotlib inline"
   ]
  },
  {
   "cell_type": "code",
   "execution_count": 3,
   "metadata": {
    "collapsed": false
   },
   "outputs": [
    {
     "name": "stdout",
     "output_type": "stream",
     "text": [
      "postgres://emclinden@localhost/coffee_db\n"
     ]
    }
   ],
   "source": [
    "#connect to database\n",
    "dbname = 'coffee_db'\n",
    "username = 'emclinden'\n",
    "engine = create_engine('postgres://%s@localhost/%s'%(username,dbname))\n",
    "print engine.url"
   ]
  },
  {
   "cell_type": "code",
   "execution_count": 6,
   "metadata": {
    "collapsed": false
   },
   "outputs": [],
   "source": [
    "sql_query = \"\"\"\n",
    "SELECT * FROM image_stats_wmeta;\n",
    "\"\"\"\n",
    "pp = pd.read_sql_query(sql_query,engine)\n",
    "qr = pp[pp.cluster_member == 0] #mostly cups"
   ]
  },
  {
   "cell_type": "code",
   "execution_count": 11,
   "metadata": {
    "collapsed": false
   },
   "outputs": [
    {
     "data": {
      "text/plain": [
       "array([u'level_0', u'index', u'picture_id', u'user_id', u'static_file',\n",
       "       u'date_posted', u'n_favs', u'n_views', u'n_comments', u'tag_raw',\n",
       "       u'tag_text', u'latitude', u'longitude', u'aperture',\n",
       "       u'brightness_value', u'date_taken', u'time_taken', u'flash',\n",
       "       u'iso_speed', u'camera_model', u'subject_area', u'subject_distance',\n",
       "       u'resolution_units', u'x_res', u'y_res', u'RGB_1', u'RGB_2',\n",
       "       u'RGB_3', u'brightness', u'contrast', u'n_edges', u'n_foreground',\n",
       "       u'n_corners', u'n_lines', u'color_fraction', u'nbuckets',\n",
       "       u'cluster_member', u'exposure', u'focal_length', u'camera1',\n",
       "       u'camera2', u'camera3', u'camera4'], dtype=object)"
      ]
     },
     "execution_count": 11,
     "metadata": {},
     "output_type": "execute_result"
    }
   ],
   "source": [
    "qr.columns.values"
   ]
  },
  {
   "cell_type": "code",
   "execution_count": null,
   "metadata": {
    "collapsed": true
   },
   "outputs": [],
   "source": [
    "bright = np.log10(qr.brightness)\n",
    "contrast = np.log10(qr.contrast)\n",
    "corn = np.log10(qr.n_corners)\n",
    "line = np.log10(qr.n_lines)\n",
    "foc = np.log10(qr.focal_length)"
   ]
  },
  {
   "cell_type": "code",
   "execution_count": null,
   "metadata": {
    "collapsed": true
   },
   "outputs": [],
   "source": [
    "time = []\n",
    "for q in qr.date_posted:\n",
    "    a = datetime.datetime.fromtimestamp(int(q)).strftime('%Y-%m-%d %H:%M:%S')\n",
    "    b = a.split(' ')[1]\n",
    "    time.append(float(b.split(':')[0]) +float(b.split(':')[1])/60.)\n",
    "log_time = np.log10(time)"
   ]
  },
  {
   "cell_type": "code",
   "execution_count": 73,
   "metadata": {
    "collapsed": false
   },
   "outputs": [],
   "source": [
    "y = np.asarray(qr.n_favs).astype('float') / np.asarray(qr.n_views).astype('float')\n",
    "ly = np.log10(y)"
   ]
  },
  {
   "cell_type": "code",
   "execution_count": 84,
   "metadata": {
    "collapsed": false
   },
   "outputs": [],
   "source": [
    "x = pd.DataFrame()\n",
    "x['bright'] = bright\n",
    "x['contrast'] = contrast\n",
    "x['corners'] = corn\n",
    "x['line'] = line\n",
    "x['focal'] = foc\n",
    "x['foreground'] = qr.n_foreground\n",
    "x['edges'] = qr.n_edges\n",
    "x['color_frac'] = qr.color_fraction\n",
    "x['nbuckets'] = qr.nbuckets\n",
    "x['exp'] = qr.exposure\n",
    "x['time'] = time\n",
    "x['log_time'] = log_time\n",
    "x['camera1'] = qr.camera1\n",
    "x['camera2'] = qr.camera2\n",
    "x['camera3'] = qr.camera3\n",
    "x['camera4'] = qr.camera4\n",
    "x['popularity'] = y"
   ]
  },
  {
   "cell_type": "code",
   "execution_count": 161,
   "metadata": {
    "collapsed": false
   },
   "outputs": [
    {
     "name": "stdout",
     "output_type": "stream",
     "text": [
      "0.281587937384\n",
      "-0.00915852080491\n",
      "[ 0.10939947  0.03084169  0.15727999  0.1344996   0.12763406  0.09576091\n",
      "  0.02867077  0.11486878  0.15356386  0.01620638  0.00512963  0.00965694\n",
      "  0.01648793]\n"
     ]
    }
   ],
   "source": [
    "train, test = train_test_split(x, test_size = 0.1)\n",
    "# ,'camera1','camera2','camera3','camera4'\n",
    "xtrain = train[['bright','contrast','corners','foreground','edges','color_frac','nbuckets','exp','time','camera1','camera2','camera3','camera4']]\n",
    "ytrain = train[['popularity']]\n",
    "ytrain = np.asarray(ytrain).ravel()\n",
    "\n",
    "xval = test[['bright','contrast','corners','foreground','edges','color_frac','nbuckets','exp','time','camera1','camera2','camera3','camera4']]\n",
    "yval = test[['popularity']]\n",
    "yval = np.asarray(yval).ravel()\n",
    "\n",
    "#gradient boosted regression\n",
    "gbr = GradientBoostingRegressor(n_estimators=100) #maybe experiment on alpha\n",
    "gbr.fit(xtrain, ytrain)\n",
    "feat=gbr.feature_importances_\n",
    "r2self=gbr.score(xtrain,ytrain)\n",
    "r2val=gbr.score(xval,yval)\n",
    "print r2self\n",
    "print r2val\n",
    "print feat"
   ]
  },
  {
   "cell_type": "code",
   "execution_count": 179,
   "metadata": {
    "collapsed": false
   },
   "outputs": [
    {
     "name": "stdout",
     "output_type": "stream",
     "text": [
      "0.313561380243\n",
      "-0.102251810153\n",
      "[ 0.14587412  0.03300468  0.14485786  0.15749165  0.17048526  0.10470418\n",
      "  0.03996139  0.0741979   0.12942296]\n"
     ]
    }
   ],
   "source": [
    "train, test = train_test_split(x, test_size = 0.2)\n",
    "# ,'camera1','camera2','camera3','camera4'\n",
    "xtrain = train[['bright','contrast','corners','foreground','edges','color_frac','nbuckets','exp','time']]\n",
    "ytrain = train[['popularity']]\n",
    "ytrain = np.asarray(ytrain).ravel()\n",
    "\n",
    "xval = test[['bright','contrast','corners','foreground','edges','color_frac','nbuckets','exp','time']]\n",
    "yval = test[['popularity']]\n",
    "yval = np.asarray(yval).ravel()\n",
    "\n",
    "#gradient boosted regression\n",
    "gbr = GradientBoostingRegressor(n_estimators=100) #maybe experiment on alpha\n",
    "gbr.fit(xtrain, ytrain)\n",
    "feat=gbr.feature_importances_\n",
    "r2self=gbr.score(xtrain,ytrain)\n",
    "r2val=gbr.score(xval,yval)\n",
    "print r2self\n",
    "print r2val\n",
    "print feat"
   ]
  },
  {
   "cell_type": "code",
   "execution_count": 297,
   "metadata": {
    "collapsed": false
   },
   "outputs": [
    {
     "name": "stdout",
     "output_type": "stream",
     "text": [
      "0.323523177298\n",
      "-0.165395975419\n",
      "[ 0.14038929  0.14387923  0.17799966  0.19078908  0.10292513  0.08853689\n",
      "  0.15548072]\n"
     ]
    }
   ],
   "source": [
    "train, test = train_test_split(x, test_size = 0.2)\n",
    "# ,'camera1','camera2','camera3','camera4'\n",
    "xtrain = train[['bright','corners','foreground','edges','color_frac','exp','time']]\n",
    "ytrain = train[['popularity']]\n",
    "ytrain = np.asarray(ytrain).ravel()\n",
    "\n",
    "xval = test[['bright','corners','foreground','edges','color_frac','exp','time']]\n",
    "yval = test[['popularity']]\n",
    "yval = np.asarray(yval).ravel()\n",
    "\n",
    "#gradient boosted regression\n",
    "gbr = GradientBoostingRegressor(n_estimators=100) #maybe experiment on alpha\n",
    "gbr.fit(xtrain, ytrain)\n",
    "feat=gbr.feature_importances_\n",
    "r2self=gbr.score(xtrain,ytrain)\n",
    "r2val=gbr.score(xval,yval)\n",
    "print r2self\n",
    "print r2val\n",
    "print feat"
   ]
  },
  {
   "cell_type": "code",
   "execution_count": 219,
   "metadata": {
    "collapsed": true
   },
   "outputs": [],
   "source": [
    "with open('gbr_0p3_0p006.pickle', 'wb') as f:\n",
    "       pickle.dump(gbr, f)\n",
    "with open('gbr_xtrain_0p3_0p006.pickle', 'wb') as f:\n",
    "       pickle.dump(xtrain, f)\n",
    "with open('gbr_ytrain_0p3_0p006.pickle', 'wb') as f:\n",
    "       pickle.dump(ytrain, f)\n",
    "with open('gbr_xval_0p3_0p006.pickle', 'wb') as f:\n",
    "       pickle.dump(xval, f)\n",
    "with open('gbr_yval_0p3_0p006.pickle', 'wb') as f:\n",
    "       pickle.dump(yval, f) \n"
   ]
  },
  {
   "cell_type": "code",
   "execution_count": 400,
   "metadata": {
    "collapsed": false
   },
   "outputs": [],
   "source": [
    "with open('gbr_0p3_0p006.pickle', 'rb') as f:\n",
    "      rgbr = pickle.load(f)\n",
    "with open('gbr_xval_0p3_0p006.pickle', 'rb') as f:\n",
    "      rxval = pickle.load(f)\n",
    "with open('gbr_yval_0p3_0p006.pickle', 'rb') as f:\n",
    "      ryval = pickle.load(f)\n",
    "\n",
    "\n",
    "r2val = rgbr.score(rxval,ryval)\n",
    "ft = rgbr.feature_importances_"
   ]
  },
  {
   "cell_type": "code",
   "execution_count": null,
   "metadata": {
    "collapsed": true
   },
   "outputs": [],
   "source": [
    "yy = pd.DataFrame()\n",
    "yy['ryval'] = ryval\n",
    "\n",
    "r2 = []\n",
    "for i in range(0,1000):\n",
    "    y = yy.reindex(np.random.permutation(yy.index))\n",
    "    r = rgbr.score(rxval,y)\n",
    "    r2.append(r)"
   ]
  },
  {
   "cell_type": "code",
   "execution_count": 436,
   "metadata": {
    "collapsed": false
   },
   "outputs": [
    {
     "data": {
      "image/png": "[encoded data removed]",
      "text/plain": [
       "<matplotlib.figure.Figure at 0x110207a50>"
      ]
     },
     "metadata": {},
     "output_type": "display_data"
    }
   ],
   "source": [
    "rr = np.asarray(r2)\n",
    "np.histogram(rr)\n",
    "hist, bins = np.histogram(rr,bins=20)\n",
    "width = 0.7 * (bins[1] - bins[0])\n",
    "center = (bins[:-1] + bins[1:]) / 2\n",
    "# plt.bar(center, hist, align='center', width=width)\n",
    "n, bins, patches = plt.hist(rr, 50, normed=1, facecolor='green', alpha=0.75)\n",
    "\n",
    "(mu, sigma) = norm.fit(rr)\n",
    "yfit = mlab.normpdf( bins, mu, sigma)\n",
    "y = mlab.normpdf( bins, mu, sigma)\n",
    "plt.plot(bins, y, 'r--', linewidth=2)\n",
    "plt.plot([0,0],[0,18],'b')\n",
    "plt.show()"
   ]
  },
  {
   "cell_type": "code",
   "execution_count": null,
   "metadata": {
    "collapsed": true
   },
   "outputs": [],
   "source": []
  },
  {
   "cell_type": "code",
   "execution_count": 430,
   "metadata": {
    "collapsed": false
   },
   "outputs": [
    {
     "data": {
      "text/plain": [
       "array([ -1.04058313e-01,  -1.03788653e-01,  -1.03352424e-01,\n",
       "        -1.02583802e-01,  -1.01939328e-01,  -1.00180696e-01,\n",
       "        -9.96983586e-02,  -9.94768363e-02,  -9.93915021e-02,\n",
       "        -9.92674311e-02,  -9.86808724e-02,  -9.83511981e-02,\n",
       "        -9.79037849e-02,  -9.76534632e-02,  -9.74626923e-02,\n",
       "        -9.71665331e-02,  -9.69300509e-02,  -9.57782717e-02,\n",
       "        -9.57527491e-02,  -9.48742953e-02,  -9.46552066e-02,\n",
       "        -9.42612745e-02,  -9.38220869e-02,  -9.37158440e-02,\n",
       "        -9.29290452e-02,  -9.28842660e-02,  -9.26317997e-02,\n",
       "        -9.23216853e-02,  -9.23025342e-02,  -9.22099491e-02,\n",
       "        -9.21549839e-02,  -9.20430128e-02,  -9.16792812e-02,\n",
       "        -9.15373489e-02,  -9.11622049e-02,  -9.10403543e-02,\n",
       "        -9.09968158e-02,  -9.08424297e-02,  -9.02238554e-02,\n",
       "        -9.00295833e-02,  -8.99679366e-02,  -8.96887574e-02,\n",
       "        -8.96286679e-02,  -8.95652336e-02,  -8.94070264e-02,\n",
       "        -8.91924821e-02,  -8.90231922e-02,  -8.89885362e-02,\n",
       "        -8.87596749e-02,  -8.86336686e-02,  -8.85646849e-02,\n",
       "        -8.85297360e-02,  -8.83843594e-02,  -8.79272614e-02,\n",
       "        -8.77704070e-02,  -8.68081218e-02,  -8.67594314e-02,\n",
       "        -8.65895612e-02,  -8.65583837e-02,  -8.65483952e-02,\n",
       "        -8.65241223e-02,  -8.64944319e-02,  -8.62940519e-02,\n",
       "        -8.62218928e-02,  -8.62014884e-02,  -8.60523486e-02,\n",
       "        -8.59582224e-02,  -8.59257686e-02,  -8.54935801e-02,\n",
       "        -8.54395060e-02,  -8.52094492e-02,  -8.45105137e-02,\n",
       "        -8.44722350e-02,  -8.43458732e-02,  -8.43059258e-02,\n",
       "        -8.40720126e-02,  -8.37694181e-02,  -8.29348091e-02,\n",
       "        -8.26152401e-02,  -8.25247833e-02,  -8.24643266e-02,\n",
       "        -8.20910973e-02,  -8.20674982e-02,  -8.18650501e-02,\n",
       "        -8.18140579e-02,  -8.17340386e-02,  -8.14249100e-02,\n",
       "        -8.14236430e-02,  -8.12668331e-02,  -8.12021483e-02,\n",
       "        -8.10533139e-02,  -8.05233455e-02,  -8.01410064e-02,\n",
       "        -7.98485351e-02,  -7.98369135e-02,  -7.97466153e-02,\n",
       "        -7.97217999e-02,  -7.93308578e-02,  -7.92139750e-02,\n",
       "        -7.91732674e-02,  -7.91670207e-02,  -7.88545612e-02,\n",
       "        -7.88037852e-02,  -7.87861241e-02,  -7.87392167e-02,\n",
       "        -7.86458559e-02,  -7.85603621e-02,  -7.80725007e-02,\n",
       "        -7.80205880e-02,  -7.78351273e-02,  -7.77717173e-02,\n",
       "        -7.72080188e-02,  -7.72017766e-02,  -7.71775370e-02,\n",
       "        -7.71742031e-02,  -7.71066070e-02,  -7.70255553e-02,\n",
       "        -7.69774116e-02,  -7.69224243e-02,  -7.67976666e-02,\n",
       "        -7.66584063e-02,  -7.65252729e-02,  -7.63394207e-02,\n",
       "        -7.62841950e-02,  -7.61802478e-02,  -7.60883568e-02,\n",
       "        -7.57585114e-02,  -7.57372719e-02,  -7.56300377e-02,\n",
       "        -7.56153033e-02,  -7.55944090e-02,  -7.55940915e-02,\n",
       "        -7.55665262e-02,  -7.55652217e-02,  -7.55167034e-02,\n",
       "        -7.55123137e-02,  -7.54346353e-02,  -7.54194217e-02,\n",
       "        -7.54178495e-02,  -7.53967753e-02,  -7.53229348e-02,\n",
       "        -7.52712969e-02,  -7.50785243e-02,  -7.50273401e-02,\n",
       "        -7.50010122e-02,  -7.48625678e-02,  -7.46622147e-02,\n",
       "        -7.45985741e-02,  -7.45065894e-02,  -7.44639383e-02,\n",
       "        -7.41993236e-02,  -7.39749693e-02,  -7.39457229e-02,\n",
       "        -7.38051967e-02,  -7.37185944e-02,  -7.36845670e-02,\n",
       "        -7.36586759e-02,  -7.36163317e-02,  -7.36010158e-02,\n",
       "        -7.35731024e-02,  -7.35712231e-02,  -7.35156614e-02,\n",
       "        -7.35025168e-02,  -7.34608599e-02,  -7.34149526e-02,\n",
       "        -7.32526831e-02,  -7.31616768e-02,  -7.31423287e-02,\n",
       "        -7.31258614e-02,  -7.31243821e-02,  -7.31087899e-02,\n",
       "        -7.29934706e-02,  -7.28865578e-02,  -7.28683843e-02,\n",
       "        -7.28347025e-02,  -7.27460849e-02,  -7.25700947e-02,\n",
       "        -7.23977931e-02,  -7.21636617e-02,  -7.19725527e-02,\n",
       "        -7.19541191e-02,  -7.18322089e-02,  -7.16250795e-02,\n",
       "        -7.15712745e-02,  -7.14951350e-02,  -7.14501240e-02,\n",
       "        -7.13995627e-02,  -7.13969060e-02,  -7.13857828e-02,\n",
       "        -7.13209844e-02,  -7.12783898e-02,  -7.11797299e-02,\n",
       "        -7.11270277e-02,  -7.06962266e-02,  -7.06838247e-02,\n",
       "        -7.06661864e-02,  -7.05689344e-02,  -7.05577643e-02,\n",
       "        -7.04219318e-02,  -7.00143819e-02,  -6.99916796e-02,\n",
       "        -6.99705346e-02,  -6.99664049e-02,  -6.99659381e-02,\n",
       "        -6.99079720e-02,  -6.97161791e-02,  -6.96407647e-02,\n",
       "        -6.95742428e-02,  -6.93235517e-02,  -6.93009569e-02,\n",
       "        -6.92591536e-02,  -6.92509848e-02,  -6.92410596e-02,\n",
       "        -6.90402561e-02,  -6.90274340e-02,  -6.89722766e-02,\n",
       "        -6.89300604e-02,  -6.88221133e-02,  -6.88193168e-02,\n",
       "        -6.86730348e-02,  -6.83657051e-02,  -6.82793845e-02,\n",
       "        -6.80345203e-02,  -6.79186551e-02,  -6.78990684e-02,\n",
       "        -6.78956988e-02,  -6.78652857e-02,  -6.78558279e-02,\n",
       "        -6.78513176e-02,  -6.78389546e-02,  -6.78294643e-02,\n",
       "        -6.77799557e-02,  -6.75774724e-02,  -6.75570095e-02,\n",
       "        -6.75310531e-02,  -6.75218794e-02,  -6.73109413e-02,\n",
       "        -6.72481559e-02,  -6.70163750e-02,  -6.69884472e-02,\n",
       "        -6.69843150e-02,  -6.67632914e-02,  -6.67181810e-02,\n",
       "        -6.65682897e-02,  -6.65592785e-02,  -6.63027087e-02,\n",
       "        -6.62985812e-02,  -6.62002595e-02,  -6.61414168e-02,\n",
       "        -6.60699928e-02,  -6.59964406e-02,  -6.57286469e-02,\n",
       "        -6.56945827e-02,  -6.54949929e-02,  -6.54366747e-02,\n",
       "        -6.53140197e-02,  -6.52708902e-02,  -6.52148741e-02,\n",
       "        -6.51781519e-02,  -6.51701792e-02,  -6.51678681e-02,\n",
       "        -6.51509421e-02,  -6.51264535e-02,  -6.50968196e-02,\n",
       "        -6.50283977e-02,  -6.49181832e-02,  -6.48499617e-02,\n",
       "        -6.46551994e-02,  -6.45922396e-02,  -6.45316640e-02,\n",
       "        -6.45063174e-02,  -6.44445136e-02,  -6.44313770e-02,\n",
       "        -6.43165999e-02,  -6.42767059e-02,  -6.40014159e-02,\n",
       "        -6.39384966e-02,  -6.39380481e-02,  -6.38217934e-02,\n",
       "        -6.37398842e-02,  -6.36864950e-02,  -6.36833821e-02,\n",
       "        -6.35020944e-02,  -6.34747050e-02,  -6.33836160e-02,\n",
       "        -6.33753537e-02,  -6.33011700e-02,  -6.31171715e-02,\n",
       "        -6.30727768e-02,  -6.30671495e-02,  -6.29403543e-02,\n",
       "        -6.29155997e-02,  -6.28825042e-02,  -6.28424746e-02,\n",
       "        -6.28350982e-02,  -6.28340032e-02,  -6.27404235e-02,\n",
       "        -6.27033751e-02,  -6.26485035e-02,  -6.26447661e-02,\n",
       "        -6.26042573e-02,  -6.25572226e-02,  -6.24940066e-02,\n",
       "        -6.24717004e-02,  -6.24529219e-02,  -6.23957157e-02,\n",
       "        -6.23027094e-02,  -6.22953093e-02,  -6.22667708e-02,\n",
       "        -6.22370732e-02,  -6.22290976e-02,  -6.22029368e-02,\n",
       "        -6.21890120e-02,  -6.21631534e-02,  -6.20881483e-02,\n",
       "        -6.20714869e-02,  -6.19208265e-02,  -6.18812456e-02,\n",
       "        -6.16911627e-02,  -6.15696828e-02,  -6.15229676e-02,\n",
       "        -6.14209382e-02,  -6.14078032e-02,  -6.13039345e-02,\n",
       "        -6.12936259e-02,  -6.11895707e-02,  -6.11679893e-02,\n",
       "        -6.11533637e-02,  -6.11531886e-02,  -6.10692477e-02,\n",
       "        -6.10581487e-02,  -6.09875858e-02,  -6.07888358e-02,\n",
       "        -6.07238589e-02,  -6.05160003e-02,  -6.05121984e-02,\n",
       "        -6.04921486e-02,  -6.04905062e-02,  -6.04838056e-02,\n",
       "        -6.04450291e-02,  -6.04259893e-02,  -6.03869174e-02,\n",
       "        -6.03837977e-02,  -6.03214951e-02,  -6.03105129e-02,\n",
       "        -6.02457499e-02,  -6.01599553e-02,  -5.99189686e-02,\n",
       "        -5.98627287e-02,  -5.95760779e-02,  -5.95721007e-02,\n",
       "        -5.95009487e-02,  -5.93526669e-02,  -5.92675484e-02,\n",
       "        -5.91221193e-02,  -5.90338480e-02,  -5.89724742e-02,\n",
       "        -5.88652505e-02,  -5.87167771e-02,  -5.85870472e-02,\n",
       "        -5.85431068e-02,  -5.85366735e-02,  -5.84864319e-02,\n",
       "        -5.84601564e-02,  -5.84338862e-02,  -5.83470223e-02,\n",
       "        -5.83212677e-02,  -5.82887765e-02,  -5.82451262e-02,\n",
       "        -5.81408282e-02,  -5.79949636e-02,  -5.79567417e-02,\n",
       "        -5.78944602e-02,  -5.78506103e-02,  -5.77984852e-02,\n",
       "        -5.77973131e-02,  -5.77858127e-02,  -5.77622004e-02,\n",
       "        -5.75013447e-02,  -5.72508759e-02,  -5.71808176e-02,\n",
       "        -5.71271710e-02,  -5.70992400e-02,  -5.69862651e-02,\n",
       "        -5.69335580e-02,  -5.68790695e-02,  -5.68498639e-02,\n",
       "        -5.67649994e-02,  -5.67572204e-02,  -5.67267404e-02,\n",
       "        -5.66665627e-02,  -5.65512240e-02,  -5.65238608e-02,\n",
       "        -5.64310487e-02,  -5.62946678e-02,  -5.61284599e-02,\n",
       "        -5.60145416e-02,  -5.59697267e-02,  -5.58707617e-02,\n",
       "        -5.56936908e-02,  -5.55771116e-02,  -5.55585000e-02,\n",
       "        -5.53752418e-02,  -5.53506846e-02,  -5.52463124e-02,\n",
       "        -5.52410558e-02,  -5.51791880e-02,  -5.51596293e-02,\n",
       "        -5.51000214e-02,  -5.50801129e-02,  -5.50546700e-02,\n",
       "        -5.50158340e-02,  -5.49894118e-02,  -5.49683921e-02,\n",
       "        -5.49325711e-02,  -5.48741314e-02,  -5.48553862e-02,\n",
       "        -5.47526512e-02,  -5.47419574e-02,  -5.47041472e-02,\n",
       "        -5.46593273e-02,  -5.46507273e-02,  -5.45986580e-02,\n",
       "        -5.45830833e-02,  -5.45686846e-02,  -5.45200995e-02,\n",
       "        -5.43355297e-02,  -5.42587630e-02,  -5.42354399e-02,\n",
       "        -5.42063433e-02,  -5.41964092e-02,  -5.41738300e-02,\n",
       "        -5.41572633e-02,  -5.41565028e-02,  -5.41301720e-02,\n",
       "        -5.41181865e-02,  -5.40072620e-02,  -5.39932725e-02,\n",
       "        -5.39375432e-02,  -5.38521759e-02,  -5.38443596e-02,\n",
       "        -5.38009924e-02,  -5.36839071e-02,  -5.36764856e-02,\n",
       "        -5.35753394e-02,  -5.35436676e-02,  -5.35287885e-02,\n",
       "        -5.34274637e-02,  -5.33060373e-02,  -5.32910875e-02,\n",
       "        -5.31055820e-02,  -5.30154980e-02,  -5.29798466e-02,\n",
       "        -5.29696211e-02,  -5.28118857e-02,  -5.27904825e-02,\n",
       "        -5.27562207e-02,  -5.27368822e-02,  -5.27178568e-02,\n",
       "        -5.26658096e-02,  -5.26474655e-02,  -5.26201306e-02,\n",
       "        -5.25146695e-02,  -5.24462585e-02,  -5.24212586e-02,\n",
       "        -5.24129028e-02,  -5.23843338e-02,  -5.23380281e-02,\n",
       "        -5.22273183e-02,  -5.21427791e-02,  -5.18476458e-02,\n",
       "        -5.18421571e-02,  -5.18220821e-02,  -5.16952733e-02,\n",
       "        -5.16380935e-02,  -5.16349069e-02,  -5.14427621e-02,\n",
       "        -5.14283711e-02,  -5.14106663e-02,  -5.13672008e-02,\n",
       "        -5.13213811e-02,  -5.13189743e-02,  -5.13072963e-02,\n",
       "        -5.12200112e-02,  -5.11687371e-02,  -5.11436095e-02,\n",
       "        -5.10823996e-02,  -5.10763462e-02,  -5.10651230e-02,\n",
       "        -5.07936186e-02,  -5.07754094e-02,  -5.06653371e-02,\n",
       "        -5.05637754e-02,  -5.05296620e-02,  -5.04073040e-02,\n",
       "        -5.03146217e-02,  -5.02590054e-02,  -5.02498514e-02,\n",
       "        -5.00009838e-02,  -4.99426611e-02,  -4.99167944e-02,\n",
       "        -4.98854682e-02,  -4.97776562e-02,  -4.97311710e-02,\n",
       "        -4.97201138e-02,  -4.96099543e-02,  -4.95384557e-02,\n",
       "        -4.94721682e-02,  -4.94264017e-02,  -4.93781910e-02,\n",
       "        -4.92979406e-02,  -4.92353058e-02,  -4.90221744e-02,\n",
       "        -4.90149314e-02,  -4.89598089e-02,  -4.89246539e-02,\n",
       "        -4.88110314e-02,  -4.88060553e-02,  -4.87969999e-02,\n",
       "        -4.86803494e-02,  -4.86462451e-02,  -4.85946317e-02,\n",
       "        -4.85946122e-02,  -4.85665267e-02,  -4.85449299e-02,\n",
       "        -4.85358964e-02,  -4.83516648e-02,  -4.83337665e-02,\n",
       "        -4.82970222e-02,  -4.81051134e-02,  -4.80500690e-02,\n",
       "        -4.80216102e-02,  -4.79772905e-02,  -4.79684784e-02,\n",
       "        -4.77188594e-02,  -4.77130261e-02,  -4.74706401e-02,\n",
       "        -4.73753675e-02,  -4.73459696e-02,  -4.73434313e-02,\n",
       "        -4.73432426e-02,  -4.72694131e-02,  -4.69458496e-02,\n",
       "        -4.66864573e-02,  -4.66380964e-02,  -4.63642415e-02,\n",
       "        -4.63163110e-02,  -4.62658046e-02,  -4.60692519e-02,\n",
       "        -4.60326829e-02,  -4.60198523e-02,  -4.58642663e-02,\n",
       "        -4.58164458e-02,  -4.57831476e-02,  -4.57025537e-02,\n",
       "        -4.56658168e-02,  -4.56265497e-02,  -4.55448633e-02,\n",
       "        -4.55028120e-02,  -4.53586528e-02,  -4.53531854e-02,\n",
       "        -4.52744103e-02,  -4.52328153e-02,  -4.52227109e-02,\n",
       "        -4.50605544e-02,  -4.48360026e-02,  -4.48229368e-02,\n",
       "        -4.47961445e-02,  -4.47397295e-02,  -4.46292524e-02,\n",
       "        -4.46083755e-02,  -4.45510856e-02,  -4.44840910e-02,\n",
       "        -4.44357028e-02,  -4.44132676e-02,  -4.42948051e-02,\n",
       "        -4.42650848e-02,  -4.42465868e-02,  -4.41987009e-02,\n",
       "        -4.40680049e-02,  -4.40438802e-02,  -4.37437578e-02,\n",
       "        -4.37257620e-02,  -4.36467623e-02,  -4.36156372e-02,\n",
       "        -4.35338056e-02,  -4.35002754e-02,  -4.34324117e-02,\n",
       "        -4.34191090e-02,  -4.33802661e-02,  -4.33781502e-02,\n",
       "        -4.33108837e-02,  -4.31434446e-02,  -4.31145068e-02,\n",
       "        -4.31002275e-02,  -4.30153800e-02,  -4.29872657e-02,\n",
       "        -4.29789816e-02,  -4.29440979e-02,  -4.29207230e-02,\n",
       "        -4.26723375e-02,  -4.23451540e-02,  -4.23157028e-02,\n",
       "        -4.22433551e-02,  -4.22118389e-02,  -4.21821879e-02,\n",
       "        -4.21363215e-02,  -4.21273996e-02,  -4.20530162e-02,\n",
       "        -4.20261482e-02,  -4.20116556e-02,  -4.19735119e-02,\n",
       "        -4.19597196e-02,  -4.19081024e-02,  -4.16403278e-02,\n",
       "        -4.15957139e-02,  -4.14921024e-02,  -4.13588285e-02,\n",
       "        -4.12606904e-02,  -4.11506022e-02,  -4.11104169e-02,\n",
       "        -4.09419623e-02,  -4.09130181e-02,  -4.08144288e-02,\n",
       "        -4.06008566e-02,  -4.05903307e-02,  -4.05036473e-02,\n",
       "        -4.04993020e-02,  -4.02877086e-02,  -4.02645669e-02,\n",
       "        -4.02425168e-02,  -4.01818836e-02,  -4.01709150e-02,\n",
       "        -3.99259546e-02,  -3.98616872e-02,  -3.96835359e-02,\n",
       "        -3.96648493e-02,  -3.96473640e-02,  -3.95894820e-02,\n",
       "        -3.95873470e-02,  -3.95857571e-02,  -3.94768439e-02,\n",
       "        -3.94643939e-02,  -3.93665108e-02,  -3.93557831e-02,\n",
       "        -3.92744429e-02,  -3.91056490e-02,  -3.90970195e-02,\n",
       "        -3.89722215e-02,  -3.89577578e-02,  -3.89295355e-02,\n",
       "        -3.87674832e-02,  -3.87462505e-02,  -3.86570038e-02,\n",
       "        -3.86402023e-02,  -3.84827308e-02,  -3.83321217e-02,\n",
       "        -3.81341500e-02,  -3.80388190e-02,  -3.80092688e-02,\n",
       "        -3.78986029e-02,  -3.75177656e-02,  -3.74414989e-02,\n",
       "        -3.73357040e-02,  -3.73114047e-02,  -3.69779981e-02,\n",
       "        -3.69423533e-02,  -3.69304873e-02,  -3.69114872e-02,\n",
       "        -3.68974258e-02,  -3.67114872e-02,  -3.64934715e-02,\n",
       "        -3.63999339e-02,  -3.63935560e-02,  -3.63319249e-02,\n",
       "        -3.63246515e-02,  -3.62862584e-02,  -3.62163521e-02,\n",
       "        -3.61322571e-02,  -3.60568493e-02,  -3.60142616e-02,\n",
       "        -3.57883568e-02,  -3.54620657e-02,  -3.53252778e-02,\n",
       "        -3.52389643e-02,  -3.52277006e-02,  -3.51267029e-02,\n",
       "        -3.48698813e-02,  -3.46930299e-02,  -3.45663891e-02,\n",
       "        -3.45336479e-02,  -3.44432594e-02,  -3.43358000e-02,\n",
       "        -3.42705065e-02,  -3.42328112e-02,  -3.41408532e-02,\n",
       "        -3.38680104e-02,  -3.37823629e-02,  -3.36060971e-02,\n",
       "        -3.35296179e-02,  -3.34777248e-02,  -3.32912705e-02,\n",
       "        -3.32747237e-02,  -3.31762106e-02,  -3.29415537e-02,\n",
       "        -3.28220772e-02,  -3.26503337e-02,  -3.26449617e-02,\n",
       "        -3.26113622e-02,  -3.25845513e-02,  -3.24870784e-02,\n",
       "        -3.24546847e-02,  -3.24237589e-02,  -3.23215302e-02,\n",
       "        -3.23108365e-02,  -3.22008958e-02,  -3.21349673e-02,\n",
       "        -3.21221633e-02,  -3.20769882e-02,  -3.19461975e-02,\n",
       "        -3.18970263e-02,  -3.17795970e-02,  -3.17683057e-02,\n",
       "        -3.16354210e-02,  -3.16316786e-02,  -3.15694717e-02,\n",
       "        -3.15009757e-02,  -3.14616157e-02,  -3.14155313e-02,\n",
       "        -3.13616839e-02,  -3.13516438e-02,  -3.13448567e-02,\n",
       "        -3.13034430e-02,  -3.12524174e-02,  -3.10600702e-02,\n",
       "        -3.08178270e-02,  -3.07241769e-02,  -3.06788779e-02,\n",
       "        -3.06392426e-02,  -3.06287450e-02,  -3.05701292e-02,\n",
       "        -3.05465668e-02,  -3.05123924e-02,  -3.03054899e-02,\n",
       "        -3.01030908e-02,  -3.00801036e-02,  -2.99768528e-02,\n",
       "        -2.99308979e-02,  -2.98932655e-02,  -2.98676583e-02,\n",
       "        -2.98449441e-02,  -2.98040355e-02,  -2.97138882e-02,\n",
       "        -2.97116343e-02,  -2.97030900e-02,  -2.93604404e-02,\n",
       "        -2.93240266e-02,  -2.91973932e-02,  -2.91361728e-02,\n",
       "        -2.90429406e-02,  -2.89434190e-02,  -2.88130410e-02,\n",
       "        -2.85940554e-02,  -2.85185162e-02,  -2.84840450e-02,\n",
       "        -2.83595443e-02,  -2.81123867e-02,  -2.79424819e-02,\n",
       "        -2.76785772e-02,  -2.74615005e-02,  -2.73430596e-02,\n",
       "        -2.73383957e-02,  -2.72210728e-02,  -2.71632120e-02,\n",
       "        -2.71157586e-02,  -2.70915842e-02,  -2.69469660e-02,\n",
       "        -2.69110974e-02,  -2.69044564e-02,  -2.66552477e-02,\n",
       "        -2.66525601e-02,  -2.65217565e-02,  -2.63158520e-02,\n",
       "        -2.62883888e-02,  -2.62818366e-02,  -2.61445661e-02,\n",
       "        -2.60775521e-02,  -2.58620913e-02,  -2.57569501e-02,\n",
       "        -2.57310528e-02,  -2.57138009e-02,  -2.56529779e-02,\n",
       "        -2.55593025e-02,  -2.54003378e-02,  -2.53729107e-02,\n",
       "        -2.53669862e-02,  -2.51601549e-02,  -2.51573374e-02,\n",
       "        -2.51480750e-02,  -2.51116000e-02,  -2.50550427e-02,\n",
       "        -2.49846902e-02,  -2.45409456e-02,  -2.44015090e-02,\n",
       "        -2.42678280e-02,  -2.42509279e-02,  -2.41801471e-02,\n",
       "        -2.40042397e-02,  -2.39262586e-02,  -2.39138390e-02,\n",
       "        -2.38526855e-02,  -2.35085199e-02,  -2.34140400e-02,\n",
       "        -2.33936447e-02,  -2.32448615e-02,  -2.30464577e-02,\n",
       "        -2.29190947e-02,  -2.26724233e-02,  -2.26410353e-02,\n",
       "        -2.26032380e-02,  -2.25367073e-02,  -2.22072247e-02,\n",
       "        -2.21928064e-02,  -2.20433978e-02,  -2.20120076e-02,\n",
       "        -2.18799180e-02,  -2.18058769e-02,  -2.13649053e-02,\n",
       "        -2.13561586e-02,  -2.13444080e-02,  -2.10050721e-02,\n",
       "        -2.07659564e-02,  -2.07237720e-02,  -2.06999709e-02,\n",
       "        -2.02275476e-02,  -1.99927485e-02,  -1.99656221e-02,\n",
       "        -1.94604020e-02,  -1.93971958e-02,  -1.91008944e-02,\n",
       "        -1.90259531e-02,  -1.88979320e-02,  -1.88730341e-02,\n",
       "        -1.87093591e-02,  -1.84409981e-02,  -1.82640548e-02,\n",
       "        -1.82464949e-02,  -1.81848099e-02,  -1.80974035e-02,\n",
       "        -1.80073148e-02,  -1.78852891e-02,  -1.78454695e-02,\n",
       "        -1.77808428e-02,  -1.77517871e-02,  -1.76436998e-02,\n",
       "        -1.74963578e-02,  -1.74842414e-02,  -1.73512412e-02,\n",
       "        -1.72410434e-02,  -1.72226393e-02,  -1.72043216e-02,\n",
       "        -1.64112170e-02,  -1.63733590e-02,  -1.60526871e-02,\n",
       "        -1.57393045e-02,  -1.57013344e-02,  -1.56309762e-02,\n",
       "        -1.53518748e-02,  -1.53498511e-02,  -1.51649997e-02,\n",
       "        -1.51198855e-02,  -1.50549842e-02,  -1.50485338e-02,\n",
       "        -1.48670327e-02,  -1.46209139e-02,  -1.44663217e-02,\n",
       "        -1.43895589e-02,  -1.41466278e-02,  -1.39111304e-02,\n",
       "        -1.38663811e-02,  -1.38070951e-02,  -1.37321001e-02,\n",
       "        -1.35055550e-02,  -1.34501005e-02,  -1.33620538e-02,\n",
       "        -1.32624560e-02,  -1.31423398e-02,  -1.26619651e-02,\n",
       "        -1.26019355e-02,  -1.22423329e-02,  -1.20912580e-02,\n",
       "        -1.20165658e-02,  -1.18052439e-02,  -1.15769679e-02,\n",
       "        -1.15198082e-02,  -1.15040251e-02,  -1.10233928e-02,\n",
       "        -1.09498793e-02,  -1.09206159e-02,  -9.66371066e-03,\n",
       "        -9.61397519e-03,  -9.55115933e-03,  -9.31334811e-03,\n",
       "        -9.29164842e-03,  -9.28412319e-03,  -8.60772564e-03,\n",
       "        -8.31254739e-03,  -8.29647813e-03,  -8.14412048e-03,\n",
       "        -8.00025763e-03,  -7.93720904e-03,  -7.88272664e-03,\n",
       "        -7.78518047e-03,  -7.70528422e-03,  -7.46809020e-03,\n",
       "        -7.05383280e-03,  -6.92877029e-03,  -6.33915397e-03,\n",
       "        -6.09778532e-03,  -5.51924739e-03,  -5.49762116e-03,\n",
       "        -4.76451537e-03,  -4.74138778e-03,  -4.54750353e-03,\n",
       "        -4.12960686e-03,  -3.89788590e-03,  -3.20885446e-03,\n",
       "        -3.16869075e-03,  -2.66169166e-03,  -2.07159596e-03,\n",
       "        -2.03595261e-03,  -1.99766687e-03,  -1.99401932e-03,\n",
       "        -1.49031665e-03,  -1.12121204e-03,  -9.72761630e-04,\n",
       "        -2.65059682e-04,   5.00133448e-05,   5.96894628e-04,\n",
       "         1.02660629e-03,   1.85263882e-03,   1.99376180e-03,\n",
       "         2.41698457e-03,   2.61050429e-03,   3.02425618e-03,\n",
       "         3.31630709e-03,   3.81612297e-03,   5.15255580e-03,\n",
       "         5.54792187e-03,   5.58868390e-03,   5.64233055e-03])"
      ]
     },
     "execution_count": 430,
     "metadata": {},
     "output_type": "execute_result"
    }
   ],
   "source": [
    "rr_sorted = np.sort(rr)\n",
    "rr_sorted[25:976]"
   ]
  },
  {
   "cell_type": "code",
   "execution_count": 183,
   "metadata": {
    "collapsed": false
   },
   "outputs": [
    {
     "name": "stdout",
     "output_type": "stream",
     "text": [
      "0.27834833424\n",
      "-0.0436302872205\n",
      "[ 0.24553973  0.14839309  0.17890422  0.14454626  0.12223414  0.16038256]\n"
     ]
    }
   ],
   "source": [
    "train, test = train_test_split(x, test_size = 0.1)\n",
    "# ,'camera1','camera2','camera3','camera4'\n",
    "xtrain = train[['bright','corners','foreground','edges','color_frac','time']]\n",
    "ytrain = train[['popularity']]\n",
    "ytrain = np.asarray(ytrain).ravel()\n",
    "\n",
    "xval = test[['bright','corners','foreground','edges','color_frac','time']]\n",
    "yval = test[['popularity']]\n",
    "yval = np.asarray(yval).ravel()\n",
    "\n",
    "#gradient boosted regression\n",
    "gbr = GradientBoostingRegressor(n_estimators=100) #maybe experiment on alpha\n",
    "gbr.fit(xtrain, ytrain)\n",
    "feat=gbr.feature_importances_\n",
    "r2self=gbr.score(xtrain,ytrain)\n",
    "r2val=gbr.score(xval,yval)\n",
    "print r2self\n",
    "print r2val\n",
    "print feat"
   ]
  },
  {
   "cell_type": "code",
   "execution_count": 177,
   "metadata": {
    "collapsed": false
   },
   "outputs": [
    {
     "name": "stdout",
     "output_type": "stream",
     "text": [
      "0.298227311679\n",
      "-0.0687047786848\n",
      "[ 0.17924674  0.26144792  0.20584381  0.04876691  0.10052375  0.20417087]\n"
     ]
    }
   ],
   "source": [
    "train, test = train_test_split(x, test_size = 0.3)\n",
    "# ,'camera1','camera2','camera3','camera4'\n",
    "xtrain = train[['bright','foreground','color_frac','nbuckets','exp','time']]\n",
    "ytrain = train[['popularity']]\n",
    "ytrain = np.asarray(ytrain).ravel()\n",
    "\n",
    "xval = test[['bright','foreground','color_frac','nbuckets','exp','time']]\n",
    "yval = test[['popularity']]\n",
    "yval = np.asarray(yval).ravel()\n",
    "\n",
    "#gradient boosted regression\n",
    "gbr = GradientBoostingRegressor(n_estimators=100) #maybe experiment on alpha\n",
    "gbr.fit(xtrain, ytrain)\n",
    "feat=gbr.feature_importances_\n",
    "r2self=gbr.score(xtrain,ytrain)\n",
    "r2val=gbr.score(xval,yval)\n",
    "print r2self\n",
    "print r2val\n",
    "print feat"
   ]
  },
  {
   "cell_type": "code",
   "execution_count": 394,
   "metadata": {
    "collapsed": false
   },
   "outputs": [
    {
     "name": "stdout",
     "output_type": "stream",
     "text": [
      "0.268494393619\n",
      "-0.0243176066394\n",
      "[ 0.23353616  0.21662815  0.24281865  0.30701704]\n"
     ]
    }
   ],
   "source": [
    "train, test = train_test_split(x, test_size = 0.1)\n",
    "# ,'camera1','camera2','camera3','camera4'\n",
    "xtrain = train[['bright','edges','time','foreground']]\n",
    "ytrain = train[['popularity']]\n",
    "ytrain = np.asarray(ytrain).ravel()\n",
    "\n",
    "xval = test[['bright','edges','time','foreground']]\n",
    "yval = test[['popularity']]\n",
    "yval = np.asarray(yval).ravel()\n",
    "\n",
    "#gradient boosted regression\n",
    "gbr = GradientBoostingRegressor(n_estimators=100) #maybe experiment on alpha\n",
    "gbr.fit(xtrain, ytrain)\n",
    "feat=gbr.feature_importances_\n",
    "r2self=gbr.score(xtrain,ytrain)\n",
    "r2val=gbr.score(xval,yval)\n",
    "print r2self\n",
    "print r2val\n",
    "print feat"
   ]
  },
  {
   "cell_type": "code",
   "execution_count": 437,
   "metadata": {
    "collapsed": true
   },
   "outputs": [],
   "source": [
    "with open('gbr_0p3_0p006.pickle', 'rb') as f:\n",
    "      rgbr = pickle.load(f)\n",
    "with open('gbr_xval_0p3_0p006.pickle', 'rb') as f:\n",
    "      rxval = pickle.load(f)\n",
    "with open('gbr_yval_0p3_0p006.pickle', 'rb') as f:\n",
    "      ryval = pickle.load(f)\n",
    "\n",
    "\n",
    "r2val = rgbr.score(rxval,ryval)\n",
    "ft = rgbr.feature_importances_"
   ]
  },
  {
   "cell_type": "code",
   "execution_count": null,
   "metadata": {
    "collapsed": true
   },
   "outputs": [],
   "source": []
  }
 ],
 "metadata": {
  "kernelspec": {
   "display_name": "Python 2",
   "language": "python",
   "name": "python2"
  },
  "language_info": {
   "codemirror_mode": {
    "name": "ipython",
    "version": 2
   },
   "file_extension": ".py",
   "mimetype": "text/x-python",
   "name": "python",
   "nbconvert_exporter": "python",
   "pygments_lexer": "ipython2",
   "version": "2.7.11"
  }
 },
 "nbformat": 4,
 "nbformat_minor": 0
}
