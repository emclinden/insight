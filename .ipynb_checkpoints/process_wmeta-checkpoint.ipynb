{
 "cells": [
  {
   "cell_type": "code",
   "execution_count": 206,
   "metadata": {
    "collapsed": true
   },
   "outputs": [],
   "source": [
    "#import all the things\n",
    "from sqlalchemy import create_engine\n",
    "from sqlalchemy_utils import database_exists, create_database\n",
    "\n",
    "from PIL import Image\n",
    "from PIL import ImageStat\n",
    "\n",
    "from matplotlib.pyplot import imshow\n",
    "import matplotlib.pyplot as plt\n",
    "\n",
    "import numpy as np\n",
    "import fnmatch\n",
    "import os\n",
    "import pylab\n",
    "import pandas as pd\n",
    "from tqdm import tqdm\n",
    "\n",
    "from skimage.filters import threshold_otsu\n",
    "from skimage.feature import corner_harris, corner_subpix, corner_peaks\n",
    "from skimage import color\n",
    "from skimage.feature import canny\n",
    "from skimage.transform import (hough_line, hough_line_peaks,\n",
    "                               probabilistic_hough_line)\n",
    "\n",
    "%matplotlib inline"
   ]
  },
  {
   "cell_type": "code",
   "execution_count": 207,
   "metadata": {
    "collapsed": false
   },
   "outputs": [
    {
     "name": "stdout",
     "output_type": "stream",
     "text": [
      "postgres://emclinden@localhost/coffee_db\n"
     ]
    }
   ],
   "source": [
    "#connect to database\n",
    "dbname = 'coffee_db'\n",
    "username = 'emclinden'\n",
    "engine = create_engine('postgres://%s@localhost/%s'%(username,dbname))\n",
    "print engine.url"
   ]
  },
  {
   "cell_type": "code",
   "execution_count": null,
   "metadata": {
    "collapsed": true
   },
   "outputs": [],
   "source": [
    "sql_query = \"\"\"\n",
    "SELECT * FROM image_address;\n",
    "\"\"\"\n",
    "data = pd.read_sql_query(sql_query,engine)"
   ]
  },
  {
   "cell_type": "code",
   "execution_count": 209,
   "metadata": {
    "collapsed": true
   },
   "outputs": [],
   "source": [
    "rY = 0.212655;\n",
    "gY = 0.715158;\n",
    "bY = 0.072187;\n",
    "\n",
    "# Inverse of sRGB \"gamma\" function. (approx 2.2)\n",
    "def inv_gam_sRGB(ic): \n",
    "    c = ic/255.0\n",
    "    if ( c <= 0.04045 ):\n",
    "         ans = c/12.92;\n",
    "    else:\n",
    "        ans = ((c+0.055)/(1.055))**2.4\n",
    "    return ans\n",
    "\n",
    "# sRGB \"gamma\" function (approx 2.2)\n",
    "def gam_sRGB(v):\n",
    "    if v <= 0.0031308:\n",
    "        v =  v *12.92\n",
    "    else:\n",
    "        v = 1.055* pow(v,1.0/2.4)-0.055;\n",
    "        v = 1.055* (v**(1.0/2.4)) - 0.055\n",
    "    return int(v*255+.5)\n",
    "\n",
    "#  GRAY VALUE (\"brightness\")\n",
    "def gray(r, g, b):\n",
    "    a =  rY*inv_gam_sRGB(r) + gY*inv_gam_sRGB(g) + bY*inv_gam_sRGB(b)\n",
    "    return gam_sRGB(a)"
   ]
  },
  {
   "cell_type": "code",
   "execution_count": 210,
   "metadata": {
    "collapsed": true
   },
   "outputs": [],
   "source": [
    "white = [255,255,255]\n",
    "yellow = [255,255,0]\n",
    "orange = [255,165,0]\n",
    "red = [255,255,0]\n",
    "magenta = [255,0,255]\n",
    "purple = [128,0,128]\n",
    "blue =[0,0,255]\n",
    "cyan = [0,255,255]\n",
    "green = [0,128,0]\n",
    "dark_green = [0,100,0]\n",
    "brown = [140,72,22]\n",
    "tan = [215, 180, 130]\n",
    "tan = [245,215,200]\n",
    "light_grey = [204,204,204]\n",
    "med_grey = [102,102,102]\n",
    "dark_grey = [51,51,51]\n",
    "black = [0,0,0]\n",
    "palette = [white,yellow,orange,red,magenta,purple,blue,cyan,green,dark_green,brown,tan,light_grey,med_grey,dark_grey,black]"
   ]
  },
  {
   "cell_type": "code",
   "execution_count": 217,
   "metadata": {
    "collapsed": false
   },
   "outputs": [
    {
     "name": "stderr",
     "output_type": "stream",
     "text": []
    }
   ],
   "source": [
    "#this cell is the meat - calculate lots of image features for each image in tables\n",
    "\n",
    "bright = [] #empty list to hold brightness values\n",
    "contrast = [] #empty list to hold contrast values\n",
    "rgb1 = [] #empty list to hold hex colors (each is list of 8 hex colors)\n",
    "rgb2 = []\n",
    "rgb3 = []\n",
    "nedges = []\n",
    "nforeground = []\n",
    "ncorners = []\n",
    "nlines = []\n",
    "nbucket = []\n",
    "colorfrac = []\n",
    "\n",
    "for pim in tqdm(data.picture_address):\n",
    "    number = []\n",
    "    hold = []\n",
    "    img = Image.open(pim,'r')\n",
    "    new_img = img.resize((50,50))\n",
    "    n  = np.array(new_img)\n",
    "    \n",
    "    #get dominant colors\n",
    "    for p in range(0,50):\n",
    "        for i in n[p]:\n",
    "            d = np.sqrt(np.sum((i - palette)**2,axis=1))\n",
    "            md = np.argmin(d)\n",
    "            hold.append(palette[md])\n",
    "    hold = np.asarray(hold)\n",
    "    a = np.reshape(hold,(50,50,3))\n",
    "    im = Image.fromarray(np.uint8(a))\n",
    "    new_name = '/Users/emclinden/coffee012316/s50_'+ pim.split('012316/')[1]\n",
    "    im.save(new_name)\n",
    "    h = list(hold)\n",
    "    p = list(palette)\n",
    "    for pal in p:\n",
    "        count = 0\n",
    "        for ho in h:\n",
    "            if np.array_equal(ho,pal):\n",
    "                count = count+1\n",
    "        number.append(count)\n",
    "    \n",
    "    #how many color buckets actually have pixels in them?\n",
    "    nbucket.append(np.size(np.nonzero(np.asarray(number))))\n",
    "    \n",
    "    #size of biggest color bucket\n",
    "    colorfrac.append(np.max(np.asarray(number)) / 2500.)\n",
    "    \n",
    "    #get names of three biggest color buckets\n",
    "    ind = np.argmax(number) #index of most prominent color\n",
    "    val = np.max(number)\n",
    "    rgb1.append(palette[ind]) #apply index to palette\n",
    "    number.remove(val)\n",
    "    ind = np.argmax(number) +1 #index of 2nd most prominent color\n",
    "    val = np.max(number)\n",
    "    rgb2.append(palette[ind])\n",
    "    number.remove(val)\n",
    "    ind = np.argmax(number) +2 #index of 3rd most prominent color\n",
    "    val = np.max(number)\n",
    "    rgb3.append(palette[ind])\n",
    "    \n",
    "    #get brightness\n",
    "    bb = []\n",
    "    try:\n",
    "        for p in range(0,50):\n",
    "            for i in n[p]:\n",
    "                r,g,b = i\n",
    "                bb.append(gray(r,g,b))\n",
    "        bright.append(np.mean(bb))\n",
    "    except:\n",
    "        foo = np.empty([50, 50, 3])\n",
    "        foo[:,:,0] = n; foo[:,:,1] = n; foo[:,:,2] = n;\n",
    "        for p in range(0,50):\n",
    "            for i in foo[p]:\n",
    "                r,g,b = i\n",
    "                bb.append(gray(r,g,b))\n",
    "        bright.append(np.mean(bb))\n",
    "\n",
    "    #get contrast\n",
    "    gimg = Image.open(pim,'r').convert('L')\n",
    "    ngimg = np.asarray(gimg)\n",
    "    gim = np.ravel(gimg)\n",
    "    hist,bins = np.histogram(gim,255,[0,255])\n",
    "    itemindex = np.where((hist > 10) == True)\n",
    "    contrast.append(itemindex[0][-1] - itemindex[0][0]) #store contrast\n",
    "    \n",
    "    #get fraction of foreground pixels\n",
    "    thresh = threshold_otsu(ngimg)\n",
    "    binary = ngimg > thresh\n",
    "    t = np.extract(binary == 1,binary)\n",
    "    nforeground.append(len(t) / np.size(ngimg))\n",
    "    \n",
    "    #get number of corners (from thresholded image)\n",
    "    coords = corner_peaks(corner_harris(binary), min_distance=5,threshold_rel=0.001)\n",
    "    ncorners.append(len(coords))\n",
    "    \n",
    "    #get number of edges\n",
    "    edges = canny(ngimg, sigma=2, low_threshold=100, high_threshold=150)\n",
    "    t = np.extract(edges == 1,edges)\n",
    "    nedges.append(len(t) / np.size(ngimg))\n",
    "    \n",
    "    #get number of straight lines\n",
    "    edges = canny(ngimg, 2, 50, 100)\n",
    "    lines = probabilistic_hough_line(edges, threshold=10, line_length=20,\n",
    "                                     line_gap=3)\n",
    "    nlines.append(len(lines))\n"
   ]
  },
  {
   "cell_type": "code",
   "execution_count": 218,
   "metadata": {
    "collapsed": true
   },
   "outputs": [],
   "source": [
    "#read image_stats because we want to append few columns\n",
    "sql_query = \"\"\"\n",
    "SELECT * FROM image_stats;\n",
    "\"\"\"\n",
    "data2 = pd.read_sql_query(sql_query,engine)"
   ]
  },
  {
   "cell_type": "code",
   "execution_count": 223,
   "metadata": {
    "collapsed": false
   },
   "outputs": [],
   "source": [
    "#append columns\n",
    "data2['RGB_1'] = rgb1\n",
    "data2['RGB_2'] = rgb2\n",
    "data2['RGB_3'] = rgb3\n",
    "data2['brightness'] = bright\n",
    "data2['contrast'] = contrast\n",
    "data2['n_edges'] = nedges\n",
    "data2['n_foreground'] = nforeground\n",
    "data2['n_corners'] = ncorners\n",
    "data2['n_lines'] = nlines\n",
    "data2['color_fraction'] = colorfrac\n",
    "data2['nbuckets'] = np.asarray(nbucket) / 16."
   ]
  },
  {
   "cell_type": "code",
   "execution_count": 229,
   "metadata": {
    "collapsed": false
   },
   "outputs": [
    {
     "data": {
      "text/plain": [
       "pandas.core.series.Series"
      ]
     },
     "execution_count": 229,
     "metadata": {},
     "output_type": "execute_result"
    }
   ],
   "source": [
    "type(data2.camera_make)"
   ]
  },
  {
   "cell_type": "code",
   "execution_count": 199,
   "metadata": {
    "collapsed": false
   },
   "outputs": [],
   "source": [
    "data2 = data2.drop('index',1)"
   ]
  },
  {
   "cell_type": "code",
   "execution_count": null,
   "metadata": {
    "collapsed": true
   },
   "outputs": [],
   "source": [
    "data2.to_sql('image_stats', engine, if_exists='replace')"
   ]
  },
  {
   "cell_type": "code",
   "execution_count": 481,
   "metadata": {
    "collapsed": true
   },
   "outputs": [],
   "source": [
    "df = data2[(data2.camera_make != 'None') ]\n",
    "df2 = df[df.iso_speed != 'None']\n",
    "df3 = df2[df2.focal_length != 'None']\n",
    "df4 = df3[df3.aperture != 'None']"
   ]
  },
  {
   "cell_type": "code",
   "execution_count": 482,
   "metadata": {
    "collapsed": false
   },
   "outputs": [],
   "source": [
    "df = df4.drop('index',axis=1)\n",
    "df4 = df.reset_index(drop = 'True')"
   ]
  },
  {
   "cell_type": "code",
   "execution_count": 485,
   "metadata": {
    "collapsed": false
   },
   "outputs": [],
   "source": [
    "#fix exposure syntax\n",
    "exp = []\n",
    "for d in df4.exposure:\n",
    "    try:\n",
    "        dd = d.split('/')\n",
    "        exp.append(float(dd[0]) / float(dd[1]))\n",
    "    except:\n",
    "        exp.append(float(d))\n",
    "df = df4.drop('exposure',1)\n",
    "df['exposure']= exp"
   ]
  },
  {
   "cell_type": "code",
   "execution_count": 486,
   "metadata": {
    "collapsed": false
   },
   "outputs": [],
   "source": [
    "#fix focal length syntax\n",
    "foc = []\n",
    "for d in df.focal_length:\n",
    "    foc.append(float(d.split(' mm')[0]))\n",
    "df.drop('focal_length',1,inplace='True')\n",
    "df['focal_length'] = foc"
   ]
  },
  {
   "cell_type": "code",
   "execution_count": 487,
   "metadata": {
    "collapsed": false
   },
   "outputs": [],
   "source": [
    "#define and add binary definitions for cameras\n",
    "camone=[]; camtwo=[]; camthree=[]; camfour=[];\n",
    "\n",
    "for d in df.camera_make:\n",
    "    if d.find('Canon') == 0:\n",
    "        cam1 = 1; cam2 = 0; cam3 = 0; cam4 = 0; \n",
    "    elif d.find('NIKON') == 0: \n",
    "        cam1 = 0; cam2 = 1; cam3 = 0; cam4 = 0;\n",
    "    elif d.find('Apple') == 0:\n",
    "        cam1 = 0; cam2 = 0; cam3 = 1; cam4 = 0;\n",
    "    elif d.find('Sony') == 0:\n",
    "        cam1 = 0; cam2 = 0; cam3 = 0; cam4 = 1; \n",
    "    else:\n",
    "        cam1 = 0; cam2 = 0; cam3 = 0; cam4 = 0;\n",
    "    camone.append(cam1); camtwo.append(cam2); camthree.append(cam3); camfour.append(cam4);"
   ]
  },
  {
   "cell_type": "code",
   "execution_count": 488,
   "metadata": {
    "collapsed": false
   },
   "outputs": [],
   "source": [
    "df.drop('camera_make',1,inplace='True')\n",
    "df['camera1'] = cam1\n",
    "df['camera2'] = cam2\n",
    "df['camera3'] = cam3\n",
    "df['camera4'] = cam4"
   ]
  },
  {
   "cell_type": "code",
   "execution_count": 489,
   "metadata": {
    "collapsed": true
   },
   "outputs": [],
   "source": [
    "arr = df.as_matrix(['n_edges','n_lines','n_corners'])\n",
    "\n",
    "from sklearn.cluster import KMeans\n",
    "kmeans = KMeans(n_clusters=2, random_state=0).fit(arr)\n",
    "\n",
    "a= (kmeans.labels_)"
   ]
  },
  {
   "cell_type": "code",
   "execution_count": null,
   "metadata": {
    "collapsed": true
   },
   "outputs": [],
   "source": [
    "df['cluster_member'] = a\n",
    "df.to_sql('image_stats', engine, if_exists='replace')"
   ]
  },
  {
   "cell_type": "code",
   "execution_count": 595,
   "metadata": {
    "collapsed": false
   },
   "outputs": [],
   "source": [
    "newdf = pd.DataFrame()"
   ]
  },
  {
   "cell_type": "code",
   "execution_count": 596,
   "metadata": {
    "collapsed": false
   },
   "outputs": [],
   "source": [
    "#popularity metric\n",
    "y = np.asarray(df.n_favs).astype('float') / np.asarray(df.n_views).astype('float')\n",
    "newdf['picture_id'] = df.picture_id\n",
    "newdf['popularity'] = y"
   ]
  },
  {
   "cell_type": "code",
   "execution_count": 597,
   "metadata": {
    "collapsed": false
   },
   "outputs": [],
   "source": [
    "#float aperture value and scale\n",
    "aperture = np.asarray(df.aperture).astype('string').astype('float')\n",
    "newdf['aperture_scale'] = (aperture - np.mean(aperture))/ np.std(aperture)"
   ]
  },
  {
   "cell_type": "code",
   "execution_count": 598,
   "metadata": {
    "collapsed": false
   },
   "outputs": [],
   "source": [
    "#parse bad iso values and scale\n",
    "iso=[]\n",
    "for d in df.iso_speed:\n",
    "    try:\n",
    "        iso.append(d.astype('str').astype('float'))\n",
    "    except:\n",
    "        iso.append(float(d.split(',')[0]))\n",
    "newdf['iso_speed_scale'] = (iso - np.mean(iso)) / np.std(iso)"
   ]
  },
  {
   "cell_type": "code",
   "execution_count": 613,
   "metadata": {
    "collapsed": false
   },
   "outputs": [],
   "source": [
    "newdf['brightness_scale'] = (df.brightness - np.mean(np.asarray(df.brightness))) / np.std(np.asarray(df.brightness))\n",
    "newdf['contrast_scale'] = (df.contrast - np.mean(np.asarray(df.contrast))) / np.std(np.asarray(df.contrast))\n",
    "newdf['frac_edges'] = df.n_edges \n",
    "newdf['n_corners_scale'] = (df.n_corners - np.mean(np.asarray(df.n_corners))) / np.std(np.asarray(df.n_corners))\n",
    "newdf['frac_foreground'] = df.n_foreground\n",
    "newdf['n_lines_scale'] = (df.n_lines - np.mean(np.asarray(df.n_lines))) / np.std(np.asarray(df.n_lines))\n",
    "newdf['domcolor_frac'] = df.color_fraction\n",
    "newdf['frac_buckets'] = df.nbuckets\n",
    "newdf['exposure'] = df.exposure\n",
    "newdf['focal_length_scale'] = (df.focal_length - np.mean(np.asarray(df.focal_length))) / np.std(np.asarray(df.focal_length))"
   ]
  },
  {
   "cell_type": "code",
   "execution_count": 615,
   "metadata": {
    "collapsed": false
   },
   "outputs": [],
   "source": [
    "newdf['camera1'] = df.camera1\n",
    "newdf['camera2'] = df.camera2\n",
    "newdf['camera3'] = df.camera3\n",
    "newdf['camera4'] = df.camera4"
   ]
  },
  {
   "cell_type": "code",
   "execution_count": 617,
   "metadata": {
    "collapsed": false
   },
   "outputs": [],
   "source": [
    "newdf['cluster_member'] = df.cluster_member"
   ]
  },
  {
   "cell_type": "code",
   "execution_count": 619,
   "metadata": {
    "collapsed": false
   },
   "outputs": [],
   "source": [
    "newdf.to_sql('image_features', engine, if_exists='replace')"
   ]
  }
 ],
 "metadata": {
  "kernelspec": {
   "display_name": "Python 2",
   "language": "python",
   "name": "python2"
  },
  "language_info": {
   "codemirror_mode": {
    "name": "ipython",
    "version": 2
   },
   "file_extension": ".py",
   "mimetype": "text/x-python",
   "name": "python",
   "nbconvert_exporter": "python",
   "pygments_lexer": "ipython2",
   "version": "2.7.11"
  }
 },
 "nbformat": 4,
 "nbformat_minor": 0
}
